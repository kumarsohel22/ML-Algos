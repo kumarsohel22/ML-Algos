{
 "cells": [
  {
   "cell_type": "code",
   "execution_count": 1,
   "metadata": {},
   "outputs": [],
   "source": [
    "import numpy as np\n",
    "import pandas as pd"
   ]
  },
  {
   "cell_type": "code",
   "execution_count": 2,
   "metadata": {},
   "outputs": [
    {
     "data": {
      "text/plain": [
       "(10100, 2)"
      ]
     },
     "execution_count": 2,
     "metadata": {},
     "output_type": "execute_result"
    }
   ],
   "source": [
    "data=pd.read_csv(\"5_a.csv\")\n",
    "data.shape"
   ]
  },
  {
   "cell_type": "code",
   "execution_count": 14,
   "metadata": {},
   "outputs": [],
   "source": [
    "def predict(df,y,thresh_hold):\n",
    "    y_pred=[]\n",
    "    #y = df[y]\n",
    "    for label in df[y]:\n",
    "        if label<thresh_hold:\n",
    "            y_pred.append(0)\n",
    "        else:\n",
    "            y_pred.append(1)\n",
    "    return y_pred\n",
    "\n",
    "def cal_vals(df,y,y_pred):\n",
    "    tp=0\n",
    "    tn=0\n",
    "    fn=0\n",
    "    fp=0\n",
    "    for val1,val2 in enumerate(df['y']):\n",
    "        if(df.y_pred[val1]==1) and df.y[val1]==1:\n",
    "            tp=tp+1\n",
    "        if(df.y_pred[val1]==0) and df.y[val1]==0:\n",
    "            tn=tn+1\n",
    "        if(df.y_pred[val1]==0) and df.y[val1]==1:\n",
    "            fn=fn+1\n",
    "        if(df.y_pred[val1]==1) and df.y[val1]==0:\n",
    "            fp=fp+1\n",
    "    return {'tn':tn,'tp':tp,'fn':fn,'fp':fp}\n"
   ]
  },
  {
   "cell_type": "code",
   "execution_count": null,
   "metadata": {},
   "outputs": [],
   "source": []
  },
  {
   "cell_type": "code",
   "execution_count": 15,
   "metadata": {},
   "outputs": [
    {
     "data": {
      "text/plain": [
       "{'tn': 0, 'tp': 10000, 'fn': 0, 'fp': 100}"
      ]
     },
     "execution_count": 15,
     "metadata": {},
     "output_type": "execute_result"
    }
   ],
   "source": [
    "thresh_hold=0.5\n",
    "data['y_pred']=predict(data,'proba',thresh_hold)\n",
    "cal_vals(data,'y','y_pred')"
   ]
  },
  {
   "cell_type": "code",
   "execution_count": 11,
   "metadata": {},
   "outputs": [],
   "source": [
    "def predict(df,y,thresh_hold):\n",
    "    y_pred=[]\n",
    "    for label in df[y]:\n",
    "        if label<thresh_hold:\n",
    "            y_pred.append(0)\n",
    "        else:\n",
    "            y_pred.append(1)\n",
    "    return y_pred\n",
    "    \n"
   ]
  },
  {
   "cell_type": "code",
   "execution_count": 18,
   "metadata": {},
   "outputs": [],
   "source": [
    "    \n",
    "# confusion matrix\n",
    "def cal_vals(df,y,y_pred):\n",
    "    tp=0\n",
    "    tn=0\n",
    "    fn=0\n",
    "    fp=0\n",
    "    for val1,val2 in enumerate(df['y']):\n",
    "        if(df.y_pred[val1]==1) and df.y[val1]==1:\n",
    "            tp=tp+1\n",
    "        if(df.y_pred[val1]==0) and df.y[val1]==0:\n",
    "            tn=tn+1\n",
    "        if(df.y_pred[val1]==0) and df.y[val1]==1:\n",
    "            fn=fn+1\n",
    "        if(df.y_pred[val1]==1) and df.y[val1]==0:\n",
    "            fp=fp+1\n",
    "    return {'tn':tn,'tp':tp,'fn':fn,'fp':fp}"
   ]
  },
  {
   "cell_type": "code",
   "execution_count": 20,
   "metadata": {},
   "outputs": [
    {
     "data": {
      "text/plain": [
       "{'tn': 0, 'tp': 10000, 'fn': 0, 'fp': 100}"
      ]
     },
     "execution_count": 20,
     "metadata": {},
     "output_type": "execute_result"
    }
   ],
   "source": [
    "thresh_hold=0.5\n",
    "data['y_pred']=predict(data,'proba',thresh_hold)\n",
    "cal_vals(data,'proba','y_pred')"
   ]
  },
  {
   "cell_type": "code",
   "execution_count": 28,
   "metadata": {},
   "outputs": [
    {
     "name": "stdout",
     "output_type": "stream",
     "text": [
      "1.0    10000\n",
      "0.0      100\n",
      "Name: y, dtype: int64\n"
     ]
    }
   ],
   "source": [
    "x=data['y'].value_counts()\n",
    "print(x)"
   ]
  },
  {
   "cell_type": "code",
   "execution_count": null,
   "metadata": {},
   "outputs": [],
   "source": []
  }
 ],
 "metadata": {
  "kernelspec": {
   "display_name": "Python 3",
   "language": "python",
   "name": "python3"
  },
  "language_info": {
   "codemirror_mode": {
    "name": "ipython",
    "version": 3
   },
   "file_extension": ".py",
   "mimetype": "text/x-python",
   "name": "python",
   "nbconvert_exporter": "python",
   "pygments_lexer": "ipython3",
   "version": "3.7.3"
  }
 },
 "nbformat": 4,
 "nbformat_minor": 2
}
